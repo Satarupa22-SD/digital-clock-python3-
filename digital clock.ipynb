{
 "cells": [
  {
   "cell_type": "code",
   "execution_count": 1,
   "id": "ba68e076",
   "metadata": {},
   "outputs": [],
   "source": [
    "import sys\n",
    "from tkinter import *\n",
    "import time\n",
    "\n",
    "def times():\n",
    "    current_time=time.strftime(\"%H:%M:%S\")\n",
    "    clock.config(text=current_time)\n",
    "    clock.after(200,times)\n",
    "\n",
    "\n",
    "root  = Tk()\n",
    "root.geometry(\"400x200\")\n",
    "clock=Label(root,font=(\"times\",42,\"bold\"),bg=\"white\")\n",
    "clock.grid(row=2,column=2,pady=25,padx=100)\n",
    "times()\n",
    "\n",
    "digi = Label(root,text=\"Digital Clock\",font=\"times 24 bold\")\n",
    "digi.grid(row=0,column=2)\n",
    "\n",
    "\n",
    "nota=Label(root,text=\"hours  minutes   seconds   \", font=\"times 15 bold\")\n",
    "\n",
    "nota.grid(row=3,column=2)\n",
    "\n",
    "root.mainloop()"
   ]
  },
  {
   "cell_type": "code",
   "execution_count": null,
   "id": "88a0f0d3",
   "metadata": {},
   "outputs": [],
   "source": []
  },
  {
   "cell_type": "code",
   "execution_count": null,
   "id": "ca8dc5ef",
   "metadata": {},
   "outputs": [],
   "source": []
  },
  {
   "cell_type": "code",
   "execution_count": null,
   "id": "31c958a4",
   "metadata": {},
   "outputs": [],
   "source": []
  }
 ],
 "metadata": {
  "kernelspec": {
   "display_name": "Python 3",
   "language": "python",
   "name": "python3"
  },
  "language_info": {
   "codemirror_mode": {
    "name": "ipython",
    "version": 3
   },
   "file_extension": ".py",
   "mimetype": "text/x-python",
   "name": "python",
   "nbconvert_exporter": "python",
   "pygments_lexer": "ipython3",
   "version": "3.8.8"
  }
 },
 "nbformat": 4,
 "nbformat_minor": 5
}
